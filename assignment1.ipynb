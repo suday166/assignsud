{
 "cells": [
  {
   "cell_type": "markdown",
   "id": "9245b35c",
   "metadata": {},
   "source": [
    "*-----expression\n",
    "'hello'----value\n",
    "-87.8-----value\n",
    "-  ------value\n",
    "/ -----expression\n",
    "+ ----expression\n",
    "6 ---value"
   ]
  },
  {
   "cell_type": "markdown",
   "id": "1d12b961",
   "metadata": {},
   "source": [
    "2.What is the difference between string and variable?"
   ]
  },
  {
   "cell_type": "markdown",
   "id": "7571b068",
   "metadata": {},
   "source": [
    "the string is written in single or double quotes e.g \"sud\" ,'sjdhgf' ,'mango'\n",
    "variables are that which are used assign the value at a particular time,same can be used to store differnt different value."
   ]
  },
  {
   "cell_type": "markdown",
   "id": "a33152f0",
   "metadata": {},
   "source": [
    "3.Describe three different data types."
   ]
  },
  {
   "cell_type": "markdown",
   "id": "d97ca771",
   "metadata": {},
   "source": [
    "List: it is used to store different differnt types of data.\n",
    "dict: it is used to store the data in the form of  key and value.\n",
    "integer: it is used to store numerical value.\n",
    "float : it is used to store floating or non decimal value. eg 45.2365"
   ]
  },
  {
   "cell_type": "markdown",
   "id": "f4b747ae",
   "metadata": {},
   "source": [
    "4.What is an expression made up of? What do all expressions do?"
   ]
  },
  {
   "cell_type": "markdown",
   "id": "68932a0a",
   "metadata": {},
   "source": [
    "expressions are madeup of variable,mathematical operator and values. expression are used to calculate the value to show as a result. "
   ]
  },
  {
   "cell_type": "code",
   "execution_count": null,
   "id": "0d7ddeb7",
   "metadata": {},
   "outputs": [],
   "source": [
    "5.This assignment statements, like spam = 10. What is the difference between an expression and a statement?"
   ]
  },
  {
   "cell_type": "code",
   "execution_count": null,
   "id": "f43fc6a1",
   "metadata": {},
   "outputs": [],
   "source": [
    "expressions are madeup of variable,mathematical operator and values. expression are used to calculate the value to show as a result. \n",
    "but statement is just like command like python interpretor executes print and c language compiler executes printf."
   ]
  },
  {
   "cell_type": "markdown",
   "id": "cd5979b6",
   "metadata": {},
   "source": [
    "6.After running the following code, what does the variable bacon contain?\n",
    "bacon = 22\n",
    "bacon + 1"
   ]
  },
  {
   "cell_type": "code",
   "execution_count": 4,
   "id": "e1b9b9c4",
   "metadata": {},
   "outputs": [
    {
     "data": {
      "text/plain": [
       "23"
      ]
     },
     "execution_count": 4,
     "metadata": {},
     "output_type": "execute_result"
    }
   ],
   "source": [
    "bacon=22\n",
    "bacon+1"
   ]
  },
  {
   "cell_type": "code",
   "execution_count": null,
   "id": "977f7a4d",
   "metadata": {},
   "outputs": [],
   "source": [
    "7. What should the values of the following two terms be?\n",
    "'spam'+ 'spamspam'\n",
    "'spam'*3"
   ]
  },
  {
   "cell_type": "code",
   "execution_count": 5,
   "id": "7acbb266",
   "metadata": {},
   "outputs": [
    {
     "data": {
      "text/plain": [
       "'spamspamspam'"
      ]
     },
     "execution_count": 5,
     "metadata": {},
     "output_type": "execute_result"
    }
   ],
   "source": [
    "'spam'+'spamspam'"
   ]
  },
  {
   "cell_type": "code",
   "execution_count": 6,
   "id": "77989a38",
   "metadata": {},
   "outputs": [
    {
     "data": {
      "text/plain": [
       "'spamspamspam'"
      ]
     },
     "execution_count": 6,
     "metadata": {},
     "output_type": "execute_result"
    }
   ],
   "source": [
    "'spam'*3"
   ]
  },
  {
   "cell_type": "code",
   "execution_count": null,
   "id": "82528cb3",
   "metadata": {},
   "outputs": [],
   "source": [
    "it is giving same result"
   ]
  },
  {
   "cell_type": "markdown",
   "id": "a7b4cc76",
   "metadata": {},
   "source": [
    "8. Why is eggs a valid variable name while 100 is invalid?"
   ]
  },
  {
   "cell_type": "markdown",
   "id": "09342dee",
   "metadata": {},
   "source": [
    "we can not start variable name with integer value we can start like x100 or simply by character value that's why eggs is valid and 100 is not valid."
   ]
  },
  {
   "cell_type": "code",
   "execution_count": null,
   "id": "2af1308e",
   "metadata": {},
   "outputs": [],
   "source": [
    "9.What three functions can be used to get the integer, floating-point number, or string version of a value?"
   ]
  },
  {
   "cell_type": "markdown",
   "id": "4c5e5071",
   "metadata": {},
   "source": [
    "str(),float(),int()"
   ]
  },
  {
   "cell_type": "code",
   "execution_count": null,
   "id": "0b3fa38b",
   "metadata": {},
   "outputs": [],
   "source": [
    "10. Why does this expression cause an error? How can you fix it?\n",
    "\n",
    "'I have eaten' + 99 + 'burritos' \n"
   ]
  },
  {
   "cell_type": "markdown",
   "id": "5eab552e",
   "metadata": {},
   "source": [
    "this expression cause an error because we all know that concatenation of similar types of data is possible.e.g string + string is valid where as string + int is not possible."
   ]
  }
 ],
 "metadata": {
  "kernelspec": {
   "display_name": "Python 3 (ipykernel)",
   "language": "python",
   "name": "python3"
  },
  "language_info": {
   "codemirror_mode": {
    "name": "ipython",
    "version": 3
   },
   "file_extension": ".py",
   "mimetype": "text/x-python",
   "name": "python",
   "nbconvert_exporter": "python",
   "pygments_lexer": "ipython3",
   "version": "3.9.7"
  }
 },
 "nbformat": 4,
 "nbformat_minor": 5
}
